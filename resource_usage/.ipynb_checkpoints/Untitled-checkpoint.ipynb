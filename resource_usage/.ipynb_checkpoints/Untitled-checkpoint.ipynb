{
 "cells": [
  {
   "cell_type": "code",
   "execution_count": null,
   "id": "heated-arkansas",
   "metadata": {},
   "outputs": [],
   "source": [
    "from scipy.stats import ranksums\n",
    "import pandas as pd\n",
    "\n",
    "#ctx-clock\n",
    "withoutMeltdown = (56696, 52091, 56502, 55881, 50223)\n",
    "withMeltdown = (1000090428, 1000087469, 1000089298, 1000085442, 100008540)\n",
    "ranksums(withoutMeltdown, withMeltdown)"
   ]
  }
 ],
 "metadata": {
  "kernelspec": {
   "display_name": "Python 3",
   "language": "python",
   "name": "python3"
  },
  "language_info": {
   "codemirror_mode": {
    "name": "ipython",
    "version": 3
   },
   "file_extension": ".py",
   "mimetype": "text/x-python",
   "name": "python",
   "nbconvert_exporter": "python",
   "pygments_lexer": "ipython3",
   "version": "3.8.10"
  }
 },
 "nbformat": 4,
 "nbformat_minor": 5
}
